{
 "metadata": {
  "language_info": {
   "codemirror_mode": {
    "name": "ipython",
    "version": 3
   },
   "file_extension": ".py",
   "mimetype": "text/x-python",
   "name": "python",
   "nbconvert_exporter": "python",
   "pygments_lexer": "ipython3",
   "version": "3.8.3-final"
  },
  "orig_nbformat": 2,
  "kernelspec": {
   "name": "python3",
   "display_name": "Python 3.8.3 64-bit ('common': conda)",
   "metadata": {
    "interpreter": {
     "hash": "fd4343ee5a1c526dd02fbf1e2f77bf343a42fd5b6523b4097d2177347eec075e"
    }
   }
  }
 },
 "nbformat": 4,
 "nbformat_minor": 2,
 "cells": [
  {
   "cell_type": "code",
   "execution_count": 2,
   "metadata": {},
   "outputs": [],
   "source": [
    "import pandas as pd\n",
    "import numpy as np\n",
    "import json\n",
    "from pyecharts.charts import Bar, Pie\n",
    "from pyecharts import options as opts\n",
    "from pyecharts.globals import ThemeType\n",
    "from selenium import webdriver\n",
    "from selenium.webdriver.common.keys import Keys\n",
    "# http://allselenium.info/wait-for-elements-python-selenium-webdriver/\n",
    "from selenium.webdriver.common.by import By\n",
    "from selenium.webdriver.support.ui import WebDriverWait\n",
    "from selenium.webdriver.support import expected_conditions as ec\n",
    "from urllib.parse import urlparse\n",
    "# https://docs.python.org/3/library/dataclasses.html\n",
    "from dataclasses import dataclass\n",
    "# https://github.com/lidatong/dataclasses-json/stargazers\n",
    "from dataclasses_json import dataclass_json\n",
    "# https://github.com/konradhalas/dacite\n",
    "from dacite import from_dict\n",
    "# convert string to buffer, used in pd.read_csv\n",
    "from io import StringIO\n",
    "# https://github.com/ManrajGrover/halo\n",
    "from halo import Halo\n",
    "# https://realpython.com/python-logging/#the-logging-module\n",
    "import logging\n",
    "from time import sleep, time\n"
   ]
  },
  {
   "cell_type": "code",
   "execution_count": 3,
   "metadata": {},
   "outputs": [],
   "source": [
    "# get intput data from csv string\n",
    "inputData = '''\n",
    "序号,学校名称,门户网站网址,主管部门,所在地,办学层次\n",
    "1,云南大学,http://www.ynu.edu.cn/,云南省,昆明市,本科\n",
    "2,昆明理工大学,http://www.kmust.edu.cn,云南省,昆明市,本科\n",
    "3,云南农业大学,https://www.ynau.edu.cn/,云南省,昆明市,本科\n",
    "4,西南林业大学,http://www.swfu.edu.cn/,云南省,昆明市,本科\n",
    "5,昆明医科大学,http://www.kmmc.cn,云南省,昆明市,本科\n",
    "6,大理大学,http://www.dali.edu.cn,云南省,大理白族自治州,本科\n",
    "7,云南中医药大学,http://www.ynutcm.edu.cn/,云南省,昆明市,本科\n",
    "8,云南师范大学,https://www.ynnu.edu.cn/,云南省,昆明市,本科\n",
    "9,昭通学院,http://www.ztu.edu.cn/,云南省,昭通市,本科\n",
    "10,曲靖师范学院,http://www.qjnu.edu.cn/,云南省,曲靖市,本科\n",
    "11,普洱学院,http://www.peuni.cn/,云南省,普洱市,本科\n",
    "12,保山学院,http://www.bsnc.cn/,云南省,保山市,本科\n",
    "13,红河学院,http://www.uoh.edu.cn/,云南省,红河哈尼族彝族自治州,本科\n",
    "14,云南财经大学,http://www.ynufe.edu.cn/,云南省,昆明市,本科\n",
    "15,云南艺术学院,https://www.ynart.edu.cn/,云南省,昆明市,本科\n",
    "16,云南民族大学,http://www.ynni.edu.cn/,云南省,昆明市,本科\n",
    "17,玉溪师范学院,http://www.yxnu.edu.cn/,云南省,玉溪市,本科\n",
    "18,楚雄师范学院,http://www.cxtc.edu.cn/,云南省,楚雄彝族自治州,本科\n",
    "19,云南警官学院,https://www.ynpc.edu.cn/,云南省,昆明市,本科\n",
    "20,昆明学院,http://www.kmu.edu.cn,云南省,昆明市,本科\n",
    "21,文山学院,http://www.wsu.edu.cn/,云南省,文山壮族苗族自治州,本科\n",
    "22,云南经济管理学院,https://www.ynjgy.com/,云南省教育厅,昆明市,本科\n",
    "23,云南大学滇池学院,https://www.ynudcc.cn/,云南省教育厅,昆明市,本科\n",
    "24,丽江旅游文化学院,http://www.lywhxy.com,云南省教育厅,丽江市,本科\n",
    "25,昆明理工大学津桥学院,http://www.oxbridge.edu.cn/,云南省教育厅,昆明市,本科\n",
    "26,云南师范大学商学院,http://www.ynnubs.com/,云南省教育厅,昆明市,本科\n",
    "27,昆明文理学院（云南师范大学）,http://www.caskm.cn/,云南省教育厅,昆明市,本科\n",
    "28,昆明医科大学海源学院,http://www.kyhyxy.com/,云南省教育厅,昆明市,本科\n",
    "29,云南艺术学院文华学院,http://www.whxyart.cn/,云南省教育厅,昆明市,本科\n",
    "30,云南工商学院,https://www.yngsxy.net/,云南省教育厅,昆明市,本科\n",
    "31,滇西科技师范学院,http://www.wynu.edu.cn/,云南省,临沧市,本科\n",
    "32,滇西应用技术大学,http://www.wyuas.edu.cn,云南省,大理市,本科\n",
    "'''\n",
    "\n",
    "# df=pd.read_csv('resources/云南省普通高等学校名单（本科）.csv')\n",
    "df=pd.read_csv(StringIO(inputData))\n",
    "siteInfo = []\n",
    "for (name, url) in df[['学校名称','门户网站网址']].values:\n",
    "    siteInfo.append({'name':name, 'url':url})\n",
    "# only use first n for testing\n",
    "# siteInfo = siteInfo[:2]"
   ]
  },
  {
   "cell_type": "code",
   "execution_count": 4,
   "metadata": {},
   "outputs": [],
   "source": [
    "def getPingUrl(originalUrl):\n",
    "    '''\n",
    "    获取seo的网址\n",
    "    '''\n",
    "    hostname=urlparse(originalUrl).hostname\n",
    "    return f'https://www.ping.cn/ping/{hostname}'"
   ]
  },
  {
   "cell_type": "code",
   "execution_count": 5,
   "metadata": {},
   "outputs": [],
   "source": [
    "\n",
    "from selenium.common.exceptions import NoSuchElementException\n",
    "from selenium.common.exceptions import StaleElementReferenceException\n",
    "from selenium.common.exceptions import WebDriverException\n",
    "\n",
    "def _find_element(driver, by):\n",
    "    \"\"\"Looks up an element. Logs and re-raises ``WebDriverException``\n",
    "    if thrown.\"\"\"\n",
    "    try:\n",
    "        return driver.find_element(*by)\n",
    "    except NoSuchElementException as e:\n",
    "        raise e\n",
    "    except WebDriverException as e:\n",
    "        raise e\n",
    "class texts_to_be_present_in_element(object):\n",
    "    \"\"\" An expectation for checking if the given texts is present in the\n",
    "    specified element.\n",
    "    locator, texts\n",
    "    \"\"\"\n",
    "    def __init__(self, locator, texts_):\n",
    "        self.locator = locator\n",
    "        self.texts = texts_\n",
    "\n",
    "    def __call__(self, driver):\n",
    "        try:\n",
    "            element_text = _find_element(driver, self.locator).text\n",
    "            return any([text == element_text for text in self.texts])\n",
    "        except StaleElementReferenceException:\n",
    "            return False"
   ]
  },
  {
   "cell_type": "code",
   "execution_count": 6,
   "metadata": {},
   "outputs": [
    {
     "output_type": "stream",
     "name": "stdout",
     "text": [
      "v process https://www.ping.cn/ping/www.ynu.edu.cn finished with 66.175ms!\n",
      "v process https://www.ping.cn/ping/www.kmust.edu.cn finished with 63.431ms!\n",
      "v process https://www.ping.cn/ping/www.ynau.edu.cn finished with 0ms!\n",
      "v process https://www.ping.cn/ping/www.swfu.edu.cn finished with 48.684ms!\n",
      "v process https://www.ping.cn/ping/www.kmmc.cn finished with 50.374ms!\n",
      "v process https://www.ping.cn/ping/www.dali.edu.cn finished with 75.008ms!\n",
      "v process https://www.ping.cn/ping/www.ynutcm.edu.cn finished with 0ms!\n",
      "v process https://www.ping.cn/ping/www.ynnu.edu.cn finished with 0ms!\n",
      "v process https://www.ping.cn/ping/www.ztu.edu.cn finished with 0ms!\n",
      "v process https://www.ping.cn/ping/www.qjnu.edu.cn finished with 56.415ms!\n",
      "v process https://www.ping.cn/ping/www.peuni.cn finished with 57.403ms!\n",
      "v process https://www.ping.cn/ping/www.bsnc.cn finished with 59.179ms!\n",
      "v process https://www.ping.cn/ping/www.uoh.edu.cn finished with 0ms!\n",
      "v process https://www.ping.cn/ping/www.ynufe.edu.cn finished with 0ms!\n",
      "v process https://www.ping.cn/ping/www.ynart.edu.cn finished with 0ms!\n",
      "v process https://www.ping.cn/ping/www.ynni.edu.cn finished with 35.646ms!\n",
      "v process https://www.ping.cn/ping/www.yxnu.edu.cn finished with 3.868ms!\n",
      "v process https://www.ping.cn/ping/www.cxtc.edu.cn finished with 0ms!\n",
      "v process https://www.ping.cn/ping/www.ynpc.edu.cn finished with 0ms!\n",
      "v process https://www.ping.cn/ping/www.kmu.edu.cn finished with 0ms!\n",
      "v process https://www.ping.cn/ping/www.wsu.edu.cn finished with 0ms!\n",
      "v process https://www.ping.cn/ping/www.ynjgy.com finished with 48.757ms!\n",
      "v process https://www.ping.cn/ping/www.ynudcc.cn finished with 0ms!\n",
      "v process https://www.ping.cn/ping/www.lywhxy.com finished with 3.728ms!\n",
      "v process https://www.ping.cn/ping/www.oxbridge.edu.cn finished with 49.484ms!\n",
      "v process https://www.ping.cn/ping/www.ynnubs.com finished with 0ms!\n",
      "v process https://www.ping.cn/ping/www.caskm.cn finished with 52.788ms!\n",
      "v process https://www.ping.cn/ping/www.kyhyxy.com finished with 52.142ms!\n",
      "v process https://www.ping.cn/ping/www.whxyart.cn finished with 49.467ms!\n",
      "v process https://www.ping.cn/ping/www.yngsxy.net finished with 21.567ms!\n",
      "v process https://www.ping.cn/ping/www.wynu.edu.cn finished with 0ms!\n",
      "v process https://www.ping.cn/ping/www.wyuas.edu.cn finished with 0ms!\n",
      "[{'name': '云南大学', 'url': 'http://www.ynu.edu.cn/', 'pingAverage': '66.175ms'}, {'name': '昆明理工大学', 'url': 'http://www.kmust.edu.cn', 'pingAverage': '63.431ms'}, {'name': '云南农业大学', 'url': 'https://www.ynau.edu.cn/', 'pingAverage': '0ms'}, {'name': '西南林业大学', 'url': 'http://www.swfu.edu.cn/', 'pingAverage': '48.684ms'}, {'name': '昆明医科大学', 'url': 'http://www.kmmc.cn', 'pingAverage': '50.374ms'}, {'name': '大理大学', 'url': 'http://www.dali.edu.cn', 'pingAverage': '75.008ms'}, {'name': '云南中医药大学', 'url': 'http://www.ynutcm.edu.cn/', 'pingAverage': '0ms'}, {'name': '云南师范大学', 'url': 'https://www.ynnu.edu.cn/', 'pingAverage': '0ms'}, {'name': '昭通学院', 'url': 'http://www.ztu.edu.cn/', 'pingAverage': '0ms'}, {'name': '曲靖师范学院', 'url': 'http://www.qjnu.edu.cn/', 'pingAverage': '56.415ms'}, {'name': '普洱学院', 'url': 'http://www.peuni.cn/', 'pingAverage': '57.403ms'}, {'name': '保山学院', 'url': 'http://www.bsnc.cn/', 'pingAverage': '59.179ms'}, {'name': '红河学院', 'url': 'http://www.uoh.edu.cn/', 'pingAverage': '0ms'}, {'name': '云南财经大学', 'url': 'http://www.ynufe.edu.cn/', 'pingAverage': '0ms'}, {'name': '云南艺术学院', 'url': 'https://www.ynart.edu.cn/', 'pingAverage': '0ms'}, {'name': '云南民族大学', 'url': 'http://www.ynni.edu.cn/', 'pingAverage': '35.646ms'}, {'name': '玉溪师范学院', 'url': 'http://www.yxnu.edu.cn/', 'pingAverage': '3.868ms'}, {'name': '楚雄师范学院', 'url': 'http://www.cxtc.edu.cn/', 'pingAverage': '0ms'}, {'name': '云南警官学院', 'url': 'https://www.ynpc.edu.cn/', 'pingAverage': '0ms'}, {'name': '昆明学院', 'url': 'http://www.kmu.edu.cn', 'pingAverage': '0ms'}, {'name': '文山学院', 'url': 'http://www.wsu.edu.cn/', 'pingAverage': '0ms'}, {'name': '云南经济管理学院', 'url': 'https://www.ynjgy.com/', 'pingAverage': '48.757ms'}, {'name': '云南大学滇池学院', 'url': 'https://www.ynudcc.cn/', 'pingAverage': '0ms'}, {'name': '丽江旅游文化学院', 'url': 'http://www.lywhxy.com', 'pingAverage': '3.728ms'}, {'name': '昆明理工大学津桥学院', 'url': 'http://www.oxbridge.edu.cn/', 'pingAverage': '49.484ms'}, {'name': '云南师范大学商学院', 'url': 'http://www.ynnubs.com/', 'pingAverage': '0ms'}, {'name': '昆明文理学院（云南师范大学）', 'url': 'http://www.caskm.cn/', 'pingAverage': '52.788ms'}, {'name': '昆明医科大学海源学院', 'url': 'http://www.kyhyxy.com/', 'pingAverage': '52.142ms'}, {'name': '云南艺术学院文华学院', 'url': 'http://www.whxyart.cn/', 'pingAverage': '49.467ms'}, {'name': '云南工商学院', 'url': 'https://www.yngsxy.net/', 'pingAverage': '21.567ms'}, {'name': '滇西科技师范学院', 'url': 'http://www.wynu.edu.cn/', 'pingAverage': '0ms'}, {'name': '滇西应用技术大学', 'url': 'http://www.wyuas.edu.cn', 'pingAverage': '0ms'}]\n"
     ]
    }
   ],
   "source": [
    "option = webdriver.ChromeOptions()\n",
    "chrome_prefs = {}\n",
    "option.experimental_options[\"prefs\"] = chrome_prefs\n",
    "chrome_prefs[\"profile.default_content_settings\"] ={\"images\": 2}\n",
    "chrome_prefs[\"profile.managed_default_content_settings\"] = {\"images\": 2}\n",
    "\n",
    "browser = webdriver.Chrome(options=option)\n",
    "\n",
    "total = len(siteInfo)\n",
    "for idx, siteInfoItem in enumerate(siteInfo):\n",
    "    pingUrl = getPingUrl(siteInfoItem['url'])\n",
    "    spinner = Halo(text=f'[{idx+1:02}/{total:02}] processing {pingUrl}', spinner='dots')\n",
    "    spinner.start()\n",
    "    browser.get(pingUrl)\n",
    "    # wait some seconds for page load finish\n",
    "    sleep(30)\n",
    "    # wait for message span\n",
    "    wait = WebDriverWait(browser, 120)\n",
    "    wait.until(texts_to_be_present_in_element((By.CSS_SELECTOR, \"div.main > div.mainMsg1 > span\"), ['', '已检测结束']))\n",
    "\n",
    "    # elem = browser.find_element_by_css_selector('div.page04d6 > div:nth-child(4) > p')\n",
    "    elem = _find_element(browser, (By.CSS_SELECTOR, 'div.page04d6 > div:nth-child(4) > p'))\n",
    "    pingAverage = elem.text\n",
    "    siteInfoItem['pingAverage'] = pingAverage\n",
    "    spinner.succeed(text=f'process {pingUrl} finished with {pingAverage}!')\n",
    "\n",
    "browser.quit()\n",
    "\n",
    "print(siteInfo)"
   ]
  },
  {
   "cell_type": "code",
   "execution_count": 7,
   "metadata": {},
   "outputs": [
    {
     "output_type": "stream",
     "name": "stdout",
     "text": [
      "v process https://www.ping.cn/ping/www.wyuas.edu.cn finished with loadTime: 2.1581311225891113, transferSize: 5483520, transferCount: 55, title: 云南大学\n",
      "v process https://www.ping.cn/ping/www.wyuas.edu.cn finished with loadTime: 4.233257055282593, transferSize: 11399338, transferCount: 60, title: 昆明理工大学\n",
      "v process https://www.ping.cn/ping/www.wyuas.edu.cn finished with loadTime: 2.5715060234069824, transferSize: 5536048, transferCount: 67, title: 云南农业大学\n",
      "v process https://www.ping.cn/ping/www.wyuas.edu.cn finished with loadTime: 4.138960838317871, transferSize: 4797642, transferCount: 28, title: 西南林业大学 – 西南林业大学\n",
      "v process https://www.ping.cn/ping/www.wyuas.edu.cn finished with loadTime: 13.473953485488892, transferSize: 36842939, transferCount: 68, title: 昆明医科大学\n",
      "v process https://www.ping.cn/ping/www.wyuas.edu.cn finished with loadTime: 2.4139199256896973, transferSize: 8198444, transferCount: 51, title: 大理大学\n",
      "v process https://www.ping.cn/ping/www.wyuas.edu.cn finished with loadTime: 1.3561384677886963, transferSize: 2785230, transferCount: 52, title: 云南中医药大学\n",
      "v process https://www.ping.cn/ping/www.wyuas.edu.cn finished with loadTime: 0.7649953365325928, transferSize: 3980081, transferCount: 39, title: 云南师范大学\n",
      "v process https://www.ping.cn/ping/www.wyuas.edu.cn finished with loadTime: 3.954547643661499, transferSize: 6058775, transferCount: 59, title: 昭通学院\n",
      "v process https://www.ping.cn/ping/www.wyuas.edu.cn finished with loadTime: 2.4032700061798096, transferSize: 184431, transferCount: 42, title: 首页 | 曲靖师范学院\n",
      "v process https://www.ping.cn/ping/www.wyuas.edu.cn finished with loadTime: 4.524953842163086, transferSize: 32083188, transferCount: 55, title: 欢迎访问普洱学院\n",
      "v process https://www.ping.cn/ping/www.wyuas.edu.cn finished with loadTime: 14.746310949325562, transferSize: 18799831, transferCount: 72, title: 保山学院\n",
      "v process https://www.ping.cn/ping/www.wyuas.edu.cn finished with loadTime: 2.3839313983917236, transferSize: 1921222, transferCount: 66, title: 红河学院\n",
      "v process https://www.ping.cn/ping/www.wyuas.edu.cn finished with loadTime: 0.8119916915893555, transferSize: 2760762, transferCount: 41, title: 云南财经大学\n",
      "v process https://www.ping.cn/ping/www.wyuas.edu.cn finished with loadTime: 1.6333191394805908, transferSize: 12411644, transferCount: 56, title: 云南艺术学院\n",
      "v process https://www.ping.cn/ping/www.wyuas.edu.cn finished with loadTime: 2.9294357299804688, transferSize: 3781579, transferCount: 73, title: 云南民族大学\n",
      "v process https://www.ping.cn/ping/www.wyuas.edu.cn finished with loadTime: 5.8640148639678955, transferSize: 2454909, transferCount: 64, title: 玉溪师范学院\n",
      "v process https://www.ping.cn/ping/www.wyuas.edu.cn finished with loadTime: 2.8550539016723633, transferSize: 19012937, transferCount: 77, title: 欢迎访问楚雄师范学院官网\n",
      "v process https://www.ping.cn/ping/www.wyuas.edu.cn finished with loadTime: 2.94212007522583, transferSize: 17201518, transferCount: 67, title: 云南警官学院\n",
      "v process https://www.ping.cn/ping/www.wyuas.edu.cn finished with loadTime: 11.10842490196228, transferSize: 6366658, transferCount: 49, title: 昆明学院--昆明学院官方网站\n",
      "v process https://www.ping.cn/ping/www.wyuas.edu.cn finished with loadTime: 30.66217064857483, transferSize: 7194312, transferCount: 66, title: 文山学院\n",
      "v process https://www.ping.cn/ping/www.wyuas.edu.cn finished with loadTime: 3.404001474380493, transferSize: 1346745, transferCount: 44, title: 云南经济管理学院-应用型普通本科高校\n",
      "v process https://www.ping.cn/ping/www.wyuas.edu.cn finished with loadTime: 0.9783167839050293, transferSize: 843198, transferCount: 26, title: 云南大学滇池学院\n",
      "v process https://www.ping.cn/ping/www.wyuas.edu.cn finished with loadTime: 2.447108507156372, transferSize: 2693430, transferCount: 58, title: 首页_丽江文化旅游学院,云南大学旅游文化学院,全国一流旅游学院,旅游大学,WWW.LYWHXY.COM\n",
      "v process https://www.ping.cn/ping/www.wyuas.edu.cn finished with loadTime: 19.497857332229614, transferSize: 3649322, transferCount: 55, title: 昆明理工大学津桥学院\n",
      "v process https://www.ping.cn/ping/www.wyuas.edu.cn finished with loadTime: 6.32379674911499, transferSize: 6920616, transferCount: 51, title: 云南师范大学商学院\n",
      "v process https://www.ping.cn/ping/www.wyuas.edu.cn finished with loadTime: 8.622957944869995, transferSize: 5418430, transferCount: 68, title: 昆明文理学院（原云南师范大学文理学院）,民办本科学院-具有普通本科学历教育资格的民办本科学院\n",
      "v process https://www.ping.cn/ping/www.wyuas.edu.cn finished with loadTime: 26.076069116592407, transferSize: 7985745, transferCount: 61, title: 昆明医科大学海源学院\n",
      "v process https://www.ping.cn/ping/www.wyuas.edu.cn finished with loadTime: 19.835936546325684, transferSize: 31381564, transferCount: 60, title: 云南艺术学院文华学院官网|云南艺术学院文华学院招生网|文华学院首页\n",
      "v process https://www.ping.cn/ping/www.wyuas.edu.cn finished with loadTime: 18.14035415649414, transferSize: 35849299, transferCount: 80, title: 云南工商学院\n",
      "v process https://www.ping.cn/ping/www.wyuas.edu.cn finished with loadTime: 17.106937646865845, transferSize: 5497864, transferCount: 55, title: 滇西科技师范学院\n",
      "v process https://www.ping.cn/ping/www.wyuas.edu.cn finished with loadTime: 1.785080909729004, transferSize: 3013373, transferCount: 72, title: 滇西应用技术大学\n",
      "[{'name': '云南大学', 'url': 'http://www.ynu.edu.cn/', 'pingAverage': '66.175ms', 'loadTime': 2.1581311225891113, 'transferSize': 5483520, 'transferCount': 55}, {'name': '昆明理工大学', 'url': 'http://www.kmust.edu.cn', 'pingAverage': '63.431ms', 'loadTime': 4.233257055282593, 'transferSize': 11399338, 'transferCount': 60}, {'name': '云南农业大学', 'url': 'https://www.ynau.edu.cn/', 'pingAverage': '0ms', 'loadTime': 2.5715060234069824, 'transferSize': 5536048, 'transferCount': 67}, {'name': '西南林业大学', 'url': 'http://www.swfu.edu.cn/', 'pingAverage': '48.684ms', 'loadTime': 4.138960838317871, 'transferSize': 4797642, 'transferCount': 28}, {'name': '昆明医科大学', 'url': 'http://www.kmmc.cn', 'pingAverage': '50.374ms', 'loadTime': 13.473953485488892, 'transferSize': 36842939, 'transferCount': 68}, {'name': '大理大学', 'url': 'http://www.dali.edu.cn', 'pingAverage': '75.008ms', 'loadTime': 2.4139199256896973, 'transferSize': 8198444, 'transferCount': 51}, {'name': '云南中医药大学', 'url': 'http://www.ynutcm.edu.cn/', 'pingAverage': '0ms', 'loadTime': 1.3561384677886963, 'transferSize': 2785230, 'transferCount': 52}, {'name': '云南师范大学', 'url': 'https://www.ynnu.edu.cn/', 'pingAverage': '0ms', 'loadTime': 0.7649953365325928, 'transferSize': 3980081, 'transferCount': 39}, {'name': '昭通学院', 'url': 'http://www.ztu.edu.cn/', 'pingAverage': '0ms', 'loadTime': 3.954547643661499, 'transferSize': 6058775, 'transferCount': 59}, {'name': '曲靖师范学院', 'url': 'http://www.qjnu.edu.cn/', 'pingAverage': '56.415ms', 'loadTime': 2.4032700061798096, 'transferSize': 184431, 'transferCount': 42}, {'name': '普洱学院', 'url': 'http://www.peuni.cn/', 'pingAverage': '57.403ms', 'loadTime': 4.524953842163086, 'transferSize': 32083188, 'transferCount': 55}, {'name': '保山学院', 'url': 'http://www.bsnc.cn/', 'pingAverage': '59.179ms', 'loadTime': 14.746310949325562, 'transferSize': 18799831, 'transferCount': 72}, {'name': '红河学院', 'url': 'http://www.uoh.edu.cn/', 'pingAverage': '0ms', 'loadTime': 2.3839313983917236, 'transferSize': 1921222, 'transferCount': 66}, {'name': '云南财经大学', 'url': 'http://www.ynufe.edu.cn/', 'pingAverage': '0ms', 'loadTime': 0.8119916915893555, 'transferSize': 2760762, 'transferCount': 41}, {'name': '云南艺术学院', 'url': 'https://www.ynart.edu.cn/', 'pingAverage': '0ms', 'loadTime': 1.6333191394805908, 'transferSize': 12411644, 'transferCount': 56}, {'name': '云南民族大学', 'url': 'http://www.ynni.edu.cn/', 'pingAverage': '35.646ms', 'loadTime': 2.9294357299804688, 'transferSize': 3781579, 'transferCount': 73}, {'name': '玉溪师范学院', 'url': 'http://www.yxnu.edu.cn/', 'pingAverage': '3.868ms', 'loadTime': 5.8640148639678955, 'transferSize': 2454909, 'transferCount': 64}, {'name': '楚雄师范学院', 'url': 'http://www.cxtc.edu.cn/', 'pingAverage': '0ms', 'loadTime': 2.8550539016723633, 'transferSize': 19012937, 'transferCount': 77}, {'name': '云南警官学院', 'url': 'https://www.ynpc.edu.cn/', 'pingAverage': '0ms', 'loadTime': 2.94212007522583, 'transferSize': 17201518, 'transferCount': 67}, {'name': '昆明学院', 'url': 'http://www.kmu.edu.cn', 'pingAverage': '0ms', 'loadTime': 11.10842490196228, 'transferSize': 6366658, 'transferCount': 49}, {'name': '文山学院', 'url': 'http://www.wsu.edu.cn/', 'pingAverage': '0ms', 'loadTime': 30.66217064857483, 'transferSize': 7194312, 'transferCount': 66}, {'name': '云南经济管理学院', 'url': 'https://www.ynjgy.com/', 'pingAverage': '48.757ms', 'loadTime': 3.404001474380493, 'transferSize': 1346745, 'transferCount': 44}, {'name': '云南大学滇池学院', 'url': 'https://www.ynudcc.cn/', 'pingAverage': '0ms', 'loadTime': 0.9783167839050293, 'transferSize': 843198, 'transferCount': 26}, {'name': '丽江旅游文化学院', 'url': 'http://www.lywhxy.com', 'pingAverage': '3.728ms', 'loadTime': 2.447108507156372, 'transferSize': 2693430, 'transferCount': 58}, {'name': '昆明理工大学津桥学院', 'url': 'http://www.oxbridge.edu.cn/', 'pingAverage': '49.484ms', 'loadTime': 19.497857332229614, 'transferSize': 3649322, 'transferCount': 55}, {'name': '云南师范大学商学院', 'url': 'http://www.ynnubs.com/', 'pingAverage': '0ms', 'loadTime': 6.32379674911499, 'transferSize': 6920616, 'transferCount': 51}, {'name': '昆明文理学院（云南师范大学）', 'url': 'http://www.caskm.cn/', 'pingAverage': '52.788ms', 'loadTime': 8.622957944869995, 'transferSize': 5418430, 'transferCount': 68}, {'name': '昆明医科大学海源学院', 'url': 'http://www.kyhyxy.com/', 'pingAverage': '52.142ms', 'loadTime': 26.076069116592407, 'transferSize': 7985745, 'transferCount': 61}, {'name': '云南艺术学院文华学院', 'url': 'http://www.whxyart.cn/', 'pingAverage': '49.467ms', 'loadTime': 19.835936546325684, 'transferSize': 31381564, 'transferCount': 60}, {'name': '云南工商学院', 'url': 'https://www.yngsxy.net/', 'pingAverage': '21.567ms', 'loadTime': 18.14035415649414, 'transferSize': 35849299, 'transferCount': 80}, {'name': '滇西科技师范学院', 'url': 'http://www.wynu.edu.cn/', 'pingAverage': '0ms', 'loadTime': 17.106937646865845, 'transferSize': 5497864, 'transferCount': 55}, {'name': '滇西应用技术大学', 'url': 'http://www.wyuas.edu.cn', 'pingAverage': '0ms', 'loadTime': 1.785080909729004, 'transferSize': 3013373, 'transferCount': 72}]\n"
     ]
    }
   ],
   "source": [
    "browser = webdriver.Chrome()\n",
    "\n",
    "total = len(siteInfo)\n",
    "for idx, siteInfoItem in enumerate(siteInfo):\n",
    "    url = siteInfoItem['url']\n",
    "    spinner = Halo(text=f'[{idx+1:02}/{total:02}] processing {url}', spinner='dots')\n",
    "    spinner.start()\n",
    "    start = time()\n",
    "    browser.get(url)\n",
    "    end = time()\n",
    "    transferSize = browser.execute_script('return window.performance.getEntriesByType(\"resource\").reduce((total,item) => total + item.transferSize, 0)')\n",
    "    transferCount = browser.execute_script('return window.performance.getEntriesByType(\"resource\").length')\n",
    "    loadTime = end - start\n",
    "    title = browser.title\n",
    "    siteInfoItem['loadTime'] = loadTime\n",
    "    siteInfoItem['transferSize'] = transferSize\n",
    "    siteInfoItem['transferCount'] = transferCount\n",
    "    spinner.succeed(text=f'process {pingUrl} finished with loadTime: {loadTime}, transferSize: {transferSize}, transferCount: {transferCount}, title: {title}')\n",
    "\n",
    "browser.quit()\n",
    "\n",
    "print(siteInfo)"
   ]
  },
  {
   "cell_type": "code",
   "execution_count": 8,
   "metadata": {},
   "outputs": [
    {
     "output_type": "execute_result",
     "data": {
      "text/plain": [
       "<pyecharts.render.display.HTML at 0x293d615ceb0>"
      ],
      "text/html": "\n<script>\n    require.config({\n        paths: {\n            'echarts':'https://assets.pyecharts.org/assets/echarts.min', 'shine':'https://assets.pyecharts.org/assets/themes/shine'\n        }\n    });\n</script>\n\n        <div id=\"e40b0a69e0694ac7a789d2befa31f174\" style=\"width:900px; height:500px;\"></div>\n\n<script>\n        require(['echarts', 'shine'], function(echarts) {\n                var chart_e40b0a69e0694ac7a789d2befa31f174 = echarts.init(\n                    document.getElementById('e40b0a69e0694ac7a789d2befa31f174'), 'shine', {renderer: 'canvas'});\n                var option_e40b0a69e0694ac7a789d2befa31f174 = {\n    \"animation\": true,\n    \"animationThreshold\": 2000,\n    \"animationDuration\": 1000,\n    \"animationEasing\": \"cubicOut\",\n    \"animationDelay\": 0,\n    \"animationDurationUpdate\": 300,\n    \"animationEasingUpdate\": \"cubicOut\",\n    \"animationDelayUpdate\": 0,\n    \"series\": [\n        {\n            \"type\": \"bar\",\n            \"name\": \"ping\\u5e73\\u5747\\u5ef6\\u65f6\\uff08ms\\uff09\",\n            \"legendHoverLink\": true,\n            \"data\": [\n                66.175,\n                63.431,\n                0.0,\n                48.684,\n                50.374,\n                75.008,\n                0.0,\n                0.0,\n                0.0,\n                56.415,\n                57.403,\n                59.179,\n                0.0,\n                0.0,\n                0.0,\n                35.646,\n                3.868,\n                0.0,\n                0.0,\n                0.0,\n                0.0,\n                48.757,\n                0.0,\n                3.728,\n                49.484,\n                0.0,\n                52.788,\n                52.142,\n                49.467,\n                21.567,\n                0.0,\n                0.0\n            ],\n            \"showBackground\": false,\n            \"barMinHeight\": 0,\n            \"barCategoryGap\": \"20%\",\n            \"barGap\": \"30%\",\n            \"large\": false,\n            \"largeThreshold\": 400,\n            \"seriesLayoutBy\": \"column\",\n            \"datasetIndex\": 0,\n            \"clip\": true,\n            \"zlevel\": 0,\n            \"z\": 2,\n            \"label\": {\n                \"show\": true,\n                \"position\": \"top\",\n                \"margin\": 8\n            }\n        }\n    ],\n    \"legend\": [\n        {\n            \"data\": [\n                \"ping\\u5e73\\u5747\\u5ef6\\u65f6\\uff08ms\\uff09\"\n            ],\n            \"selected\": {\n                \"ping\\u5e73\\u5747\\u5ef6\\u65f6\\uff08ms\\uff09\": true\n            },\n            \"show\": true,\n            \"padding\": 5,\n            \"itemGap\": 10,\n            \"itemWidth\": 25,\n            \"itemHeight\": 14\n        }\n    ],\n    \"tooltip\": {\n        \"show\": true,\n        \"trigger\": \"item\",\n        \"triggerOn\": \"mousemove|click\",\n        \"axisPointer\": {\n            \"type\": \"line\"\n        },\n        \"showContent\": true,\n        \"alwaysShowContent\": false,\n        \"showDelay\": 0,\n        \"hideDelay\": 100,\n        \"textStyle\": {\n            \"fontSize\": 14\n        },\n        \"borderWidth\": 0,\n        \"padding\": 5\n    },\n    \"xAxis\": [\n        {\n            \"type\": \"category\",\n            \"show\": true,\n            \"scale\": false,\n            \"nameLocation\": \"end\",\n            \"nameGap\": 15,\n            \"gridIndex\": 0,\n            \"axisPointer\": {\n                \"show\": true,\n                \"type\": \"shadow\"\n            },\n            \"inverse\": false,\n            \"offset\": 0,\n            \"splitNumber\": 5,\n            \"minInterval\": 0,\n            \"splitLine\": {\n                \"show\": false,\n                \"lineStyle\": {\n                    \"show\": true,\n                    \"width\": 1,\n                    \"opacity\": 1,\n                    \"curveness\": 0,\n                    \"type\": \"solid\"\n                }\n            },\n            \"data\": [\n                \"\\u4e91\\u5357\\u5927\\u5b66\",\n                \"\\u6606\\u660e\\u7406\\u5de5\\u5927\\u5b66\",\n                \"\\u4e91\\u5357\\u519c\\u4e1a\\u5927\\u5b66\",\n                \"\\u897f\\u5357\\u6797\\u4e1a\\u5927\\u5b66\",\n                \"\\u6606\\u660e\\u533b\\u79d1\\u5927\\u5b66\",\n                \"\\u5927\\u7406\\u5927\\u5b66\",\n                \"\\u4e91\\u5357\\u4e2d\\u533b\\u836f\\u5927\\u5b66\",\n                \"\\u4e91\\u5357\\u5e08\\u8303\\u5927\\u5b66\",\n                \"\\u662d\\u901a\\u5b66\\u9662\",\n                \"\\u66f2\\u9756\\u5e08\\u8303\\u5b66\\u9662\",\n                \"\\u666e\\u6d31\\u5b66\\u9662\",\n                \"\\u4fdd\\u5c71\\u5b66\\u9662\",\n                \"\\u7ea2\\u6cb3\\u5b66\\u9662\",\n                \"\\u4e91\\u5357\\u8d22\\u7ecf\\u5927\\u5b66\",\n                \"\\u4e91\\u5357\\u827a\\u672f\\u5b66\\u9662\",\n                \"\\u4e91\\u5357\\u6c11\\u65cf\\u5927\\u5b66\",\n                \"\\u7389\\u6eaa\\u5e08\\u8303\\u5b66\\u9662\",\n                \"\\u695a\\u96c4\\u5e08\\u8303\\u5b66\\u9662\",\n                \"\\u4e91\\u5357\\u8b66\\u5b98\\u5b66\\u9662\",\n                \"\\u6606\\u660e\\u5b66\\u9662\",\n                \"\\u6587\\u5c71\\u5b66\\u9662\",\n                \"\\u4e91\\u5357\\u7ecf\\u6d4e\\u7ba1\\u7406\\u5b66\\u9662\",\n                \"\\u4e91\\u5357\\u5927\\u5b66\\u6ec7\\u6c60\\u5b66\\u9662\",\n                \"\\u4e3d\\u6c5f\\u65c5\\u6e38\\u6587\\u5316\\u5b66\\u9662\",\n                \"\\u6606\\u660e\\u7406\\u5de5\\u5927\\u5b66\\u6d25\\u6865\\u5b66\\u9662\",\n                \"\\u4e91\\u5357\\u5e08\\u8303\\u5927\\u5b66\\u5546\\u5b66\\u9662\",\n                \"\\u6606\\u660e\\u6587\\u7406\\u5b66\\u9662\\uff08\\u4e91\\u5357\\u5e08\\u8303\\u5927\\u5b66\\uff09\",\n                \"\\u6606\\u660e\\u533b\\u79d1\\u5927\\u5b66\\u6d77\\u6e90\\u5b66\\u9662\",\n                \"\\u4e91\\u5357\\u827a\\u672f\\u5b66\\u9662\\u6587\\u534e\\u5b66\\u9662\",\n                \"\\u4e91\\u5357\\u5de5\\u5546\\u5b66\\u9662\",\n                \"\\u6ec7\\u897f\\u79d1\\u6280\\u5e08\\u8303\\u5b66\\u9662\",\n                \"\\u6ec7\\u897f\\u5e94\\u7528\\u6280\\u672f\\u5927\\u5b66\"\n            ]\n        }\n    ],\n    \"yAxis\": [\n        {\n            \"show\": true,\n            \"scale\": false,\n            \"nameLocation\": \"end\",\n            \"nameGap\": 15,\n            \"gridIndex\": 0,\n            \"inverse\": false,\n            \"offset\": 0,\n            \"splitNumber\": 5,\n            \"min\": -10,\n            \"minInterval\": 0,\n            \"splitLine\": {\n                \"show\": false,\n                \"lineStyle\": {\n                    \"show\": true,\n                    \"width\": 1,\n                    \"opacity\": 1,\n                    \"curveness\": 0,\n                    \"type\": \"solid\"\n                }\n            }\n        }\n    ],\n    \"title\": [\n        {\n            \"text\": \"ping\\u5e73\\u5747\\u5ef6\\u65f6\\u60c5\\u51b5\",\n            \"padding\": 5,\n            \"itemGap\": 10\n        }\n    ],\n    \"dataZoom\": {\n        \"show\": true,\n        \"type\": \"slider\",\n        \"realtime\": true,\n        \"start\": 20,\n        \"end\": 80,\n        \"orient\": \"horizontal\",\n        \"zoomLock\": false,\n        \"filterMode\": \"filter\"\n    }\n};\n                chart_e40b0a69e0694ac7a789d2befa31f174.setOption(option_e40b0a69e0694ac7a789d2befa31f174);\n        });\n    </script>\n"
     },
     "metadata": {},
     "execution_count": 8
    },
    {
     "output_type": "stream",
     "name": "stdout",
     "text": []
    }
   ],
   "source": [
    "xaxis = list(map(lambda item: item['name'], siteInfo))\n",
    "yaxisPingAverage = list(map(lambda item: float(item['pingAverage'].replace('ms','')), siteInfo))\n",
    "\n",
    "bar = (\n",
    "    Bar({\"theme\": ThemeType.SHINE})\n",
    "    .add_xaxis(xaxis)\n",
    "    .add_yaxis(\"ping平均延时（ms）\", yaxisPingAverage)\n",
    "    .set_global_opts(\n",
    "        title_opts=opts.TitleOpts(title=\"ping平均延时情况\"),\n",
    "        datazoom_opts=opts.DataZoomOpts(),\n",
    "        xaxis_opts=opts.AxisOpts(\n",
    "            type_=\"category\",\n",
    "            axispointer_opts=opts.AxisPointerOpts(is_show=True, type_=\"shadow\"),\n",
    "        ),\n",
    "        yaxis_opts=opts.AxisOpts(\n",
    "            min_=-10,\n",
    "        ),)\n",
    ")\n",
    "bar.render_notebook()"
   ]
  },
  {
   "cell_type": "code",
   "execution_count": 9,
   "metadata": {},
   "outputs": [
    {
     "output_type": "execute_result",
     "data": {
      "text/plain": [
       "<pyecharts.render.display.HTML at 0x293d615c7f0>"
      ],
      "text/html": "\n<script>\n    require.config({\n        paths: {\n            'echarts':'https://assets.pyecharts.org/assets/echarts.min', 'shine':'https://assets.pyecharts.org/assets/themes/shine'\n        }\n    });\n</script>\n\n        <div id=\"c466ec8670dd4f5d9418386c683ec2a0\" style=\"width:900px; height:500px;\"></div>\n\n<script>\n        require(['echarts', 'shine'], function(echarts) {\n                var chart_c466ec8670dd4f5d9418386c683ec2a0 = echarts.init(\n                    document.getElementById('c466ec8670dd4f5d9418386c683ec2a0'), 'shine', {renderer: 'canvas'});\n                var option_c466ec8670dd4f5d9418386c683ec2a0 = {\n    \"animation\": true,\n    \"animationThreshold\": 2000,\n    \"animationDuration\": 1000,\n    \"animationEasing\": \"cubicOut\",\n    \"animationDelay\": 0,\n    \"animationDurationUpdate\": 300,\n    \"animationEasingUpdate\": \"cubicOut\",\n    \"animationDelayUpdate\": 0,\n    \"series\": [\n        {\n            \"type\": \"bar\",\n            \"name\": \"\\u52a0\\u8f7d\\u65f6\\u95f4\\uff08ms\\uff09\",\n            \"legendHoverLink\": true,\n            \"data\": [\n                \"2158.13\",\n                \"4233.26\",\n                \"2571.51\",\n                \"4138.96\",\n                \"13473.95\",\n                \"2413.92\",\n                \"1356.14\",\n                \"765.00\",\n                \"3954.55\",\n                \"2403.27\",\n                \"4524.95\",\n                \"14746.31\",\n                \"2383.93\",\n                \"811.99\",\n                \"1633.32\",\n                \"2929.44\",\n                \"5864.01\",\n                \"2855.05\",\n                \"2942.12\",\n                \"11108.42\",\n                \"30662.17\",\n                \"3404.00\",\n                \"978.32\",\n                \"2447.11\",\n                \"19497.86\",\n                \"6323.80\",\n                \"8622.96\",\n                \"26076.07\",\n                \"19835.94\",\n                \"18140.35\",\n                \"17106.94\",\n                \"1785.08\"\n            ],\n            \"showBackground\": false,\n            \"barMinHeight\": 0,\n            \"barCategoryGap\": \"20%\",\n            \"barGap\": \"30%\",\n            \"large\": false,\n            \"largeThreshold\": 400,\n            \"seriesLayoutBy\": \"column\",\n            \"datasetIndex\": 0,\n            \"clip\": true,\n            \"zlevel\": 0,\n            \"z\": 2,\n            \"label\": {\n                \"show\": true,\n                \"position\": \"top\",\n                \"margin\": 8\n            }\n        }\n    ],\n    \"legend\": [\n        {\n            \"data\": [\n                \"\\u52a0\\u8f7d\\u65f6\\u95f4\\uff08ms\\uff09\"\n            ],\n            \"selected\": {\n                \"\\u52a0\\u8f7d\\u65f6\\u95f4\\uff08ms\\uff09\": true\n            },\n            \"show\": true,\n            \"padding\": 5,\n            \"itemGap\": 10,\n            \"itemWidth\": 25,\n            \"itemHeight\": 14\n        }\n    ],\n    \"tooltip\": {\n        \"show\": true,\n        \"trigger\": \"item\",\n        \"triggerOn\": \"mousemove|click\",\n        \"axisPointer\": {\n            \"type\": \"line\"\n        },\n        \"showContent\": true,\n        \"alwaysShowContent\": false,\n        \"showDelay\": 0,\n        \"hideDelay\": 100,\n        \"textStyle\": {\n            \"fontSize\": 14\n        },\n        \"borderWidth\": 0,\n        \"padding\": 5\n    },\n    \"xAxis\": [\n        {\n            \"type\": \"category\",\n            \"show\": true,\n            \"scale\": false,\n            \"nameLocation\": \"end\",\n            \"nameGap\": 15,\n            \"gridIndex\": 0,\n            \"axisPointer\": {\n                \"show\": true,\n                \"type\": \"shadow\"\n            },\n            \"inverse\": false,\n            \"offset\": 0,\n            \"splitNumber\": 5,\n            \"minInterval\": 0,\n            \"splitLine\": {\n                \"show\": false,\n                \"lineStyle\": {\n                    \"show\": true,\n                    \"width\": 1,\n                    \"opacity\": 1,\n                    \"curveness\": 0,\n                    \"type\": \"solid\"\n                }\n            },\n            \"data\": [\n                \"\\u4e91\\u5357\\u5927\\u5b66\",\n                \"\\u6606\\u660e\\u7406\\u5de5\\u5927\\u5b66\",\n                \"\\u4e91\\u5357\\u519c\\u4e1a\\u5927\\u5b66\",\n                \"\\u897f\\u5357\\u6797\\u4e1a\\u5927\\u5b66\",\n                \"\\u6606\\u660e\\u533b\\u79d1\\u5927\\u5b66\",\n                \"\\u5927\\u7406\\u5927\\u5b66\",\n                \"\\u4e91\\u5357\\u4e2d\\u533b\\u836f\\u5927\\u5b66\",\n                \"\\u4e91\\u5357\\u5e08\\u8303\\u5927\\u5b66\",\n                \"\\u662d\\u901a\\u5b66\\u9662\",\n                \"\\u66f2\\u9756\\u5e08\\u8303\\u5b66\\u9662\",\n                \"\\u666e\\u6d31\\u5b66\\u9662\",\n                \"\\u4fdd\\u5c71\\u5b66\\u9662\",\n                \"\\u7ea2\\u6cb3\\u5b66\\u9662\",\n                \"\\u4e91\\u5357\\u8d22\\u7ecf\\u5927\\u5b66\",\n                \"\\u4e91\\u5357\\u827a\\u672f\\u5b66\\u9662\",\n                \"\\u4e91\\u5357\\u6c11\\u65cf\\u5927\\u5b66\",\n                \"\\u7389\\u6eaa\\u5e08\\u8303\\u5b66\\u9662\",\n                \"\\u695a\\u96c4\\u5e08\\u8303\\u5b66\\u9662\",\n                \"\\u4e91\\u5357\\u8b66\\u5b98\\u5b66\\u9662\",\n                \"\\u6606\\u660e\\u5b66\\u9662\",\n                \"\\u6587\\u5c71\\u5b66\\u9662\",\n                \"\\u4e91\\u5357\\u7ecf\\u6d4e\\u7ba1\\u7406\\u5b66\\u9662\",\n                \"\\u4e91\\u5357\\u5927\\u5b66\\u6ec7\\u6c60\\u5b66\\u9662\",\n                \"\\u4e3d\\u6c5f\\u65c5\\u6e38\\u6587\\u5316\\u5b66\\u9662\",\n                \"\\u6606\\u660e\\u7406\\u5de5\\u5927\\u5b66\\u6d25\\u6865\\u5b66\\u9662\",\n                \"\\u4e91\\u5357\\u5e08\\u8303\\u5927\\u5b66\\u5546\\u5b66\\u9662\",\n                \"\\u6606\\u660e\\u6587\\u7406\\u5b66\\u9662\\uff08\\u4e91\\u5357\\u5e08\\u8303\\u5927\\u5b66\\uff09\",\n                \"\\u6606\\u660e\\u533b\\u79d1\\u5927\\u5b66\\u6d77\\u6e90\\u5b66\\u9662\",\n                \"\\u4e91\\u5357\\u827a\\u672f\\u5b66\\u9662\\u6587\\u534e\\u5b66\\u9662\",\n                \"\\u4e91\\u5357\\u5de5\\u5546\\u5b66\\u9662\",\n                \"\\u6ec7\\u897f\\u79d1\\u6280\\u5e08\\u8303\\u5b66\\u9662\",\n                \"\\u6ec7\\u897f\\u5e94\\u7528\\u6280\\u672f\\u5927\\u5b66\"\n            ]\n        }\n    ],\n    \"yAxis\": [\n        {\n            \"show\": true,\n            \"scale\": false,\n            \"nameLocation\": \"end\",\n            \"nameGap\": 15,\n            \"gridIndex\": 0,\n            \"inverse\": false,\n            \"offset\": 0,\n            \"splitNumber\": 5,\n            \"min\": -10,\n            \"minInterval\": 0,\n            \"splitLine\": {\n                \"show\": false,\n                \"lineStyle\": {\n                    \"show\": true,\n                    \"width\": 1,\n                    \"opacity\": 1,\n                    \"curveness\": 0,\n                    \"type\": \"solid\"\n                }\n            }\n        }\n    ],\n    \"title\": [\n        {\n            \"text\": \"\\u52a0\\u8f7d\\u65f6\\u95f4\\u60c5\\u51b5\",\n            \"padding\": 5,\n            \"itemGap\": 10\n        }\n    ],\n    \"dataZoom\": {\n        \"show\": true,\n        \"type\": \"slider\",\n        \"realtime\": true,\n        \"start\": 20,\n        \"end\": 80,\n        \"orient\": \"horizontal\",\n        \"zoomLock\": false,\n        \"filterMode\": \"filter\"\n    }\n};\n                chart_c466ec8670dd4f5d9418386c683ec2a0.setOption(option_c466ec8670dd4f5d9418386c683ec2a0);\n        });\n    </script>\n"
     },
     "metadata": {},
     "execution_count": 9
    },
    {
     "output_type": "stream",
     "name": "stdout",
     "text": []
    }
   ],
   "source": [
    "xaxis = list(map(lambda item: item['name'], siteInfo))\n",
    "yaxisLoadTime = list(map(lambda item: \"{:.2f}\".format(float(item['loadTime']) * 1000), siteInfo))\n",
    "\n",
    "bar = (\n",
    "    Bar({\"theme\": ThemeType.SHINE})\n",
    "    .add_xaxis(xaxis)\n",
    "    .add_yaxis(\"加载时间（ms）\", yaxisLoadTime)\n",
    "    .set_global_opts(\n",
    "        title_opts=opts.TitleOpts(title=\"加载时间情况\"),\n",
    "        datazoom_opts=opts.DataZoomOpts(),\n",
    "        xaxis_opts=opts.AxisOpts(\n",
    "            type_=\"category\",\n",
    "            axispointer_opts=opts.AxisPointerOpts(is_show=True, type_=\"shadow\"),\n",
    "        ),\n",
    "        yaxis_opts=opts.AxisOpts(\n",
    "            min_=-10,\n",
    "        ),)\n",
    ")\n",
    "bar.render_notebook()"
   ]
  },
  {
   "cell_type": "code",
   "execution_count": 10,
   "metadata": {},
   "outputs": [
    {
     "output_type": "execute_result",
     "data": {
      "text/plain": [
       "<pyecharts.render.display.HTML at 0x293d619c490>"
      ],
      "text/html": "\n<script>\n    require.config({\n        paths: {\n            'echarts':'https://assets.pyecharts.org/assets/echarts.min', 'shine':'https://assets.pyecharts.org/assets/themes/shine'\n        }\n    });\n</script>\n\n        <div id=\"5b87e0a07aaf474ebe73b5d326176d2f\" style=\"width:900px; height:500px;\"></div>\n\n<script>\n        require(['echarts', 'shine'], function(echarts) {\n                var chart_5b87e0a07aaf474ebe73b5d326176d2f = echarts.init(\n                    document.getElementById('5b87e0a07aaf474ebe73b5d326176d2f'), 'shine', {renderer: 'canvas'});\n                var option_5b87e0a07aaf474ebe73b5d326176d2f = {\n    \"animation\": true,\n    \"animationThreshold\": 2000,\n    \"animationDuration\": 1000,\n    \"animationEasing\": \"cubicOut\",\n    \"animationDelay\": 0,\n    \"animationDurationUpdate\": 300,\n    \"animationEasingUpdate\": \"cubicOut\",\n    \"animationDelayUpdate\": 0,\n    \"series\": [\n        {\n            \"type\": \"bar\",\n            \"name\": \"\\u52a0\\u8f7d\\u7f51\\u7edc\\u8d44\\u6e90\\u5927\\u5c0f\\uff08KB\\uff09\",\n            \"legendHoverLink\": true,\n            \"data\": [\n                \"5355.00\",\n                \"11132.17\",\n                \"5406.30\",\n                \"4685.20\",\n                \"35979.43\",\n                \"8006.29\",\n                \"2719.95\",\n                \"3886.80\",\n                \"5916.77\",\n                \"180.11\",\n                \"31331.24\",\n                \"18359.21\",\n                \"1876.19\",\n                \"2696.06\",\n                \"12120.75\",\n                \"3692.95\",\n                \"2397.37\",\n                \"18567.32\",\n                \"16798.36\",\n                \"6217.44\",\n                \"7025.70\",\n                \"1315.18\",\n                \"823.44\",\n                \"2630.30\",\n                \"3563.79\",\n                \"6758.41\",\n                \"5291.44\",\n                \"7798.58\",\n                \"30646.06\",\n                \"35009.08\",\n                \"5369.01\",\n                \"2942.75\"\n            ],\n            \"showBackground\": false,\n            \"barMinHeight\": 0,\n            \"barCategoryGap\": \"20%\",\n            \"barGap\": \"30%\",\n            \"large\": false,\n            \"largeThreshold\": 400,\n            \"seriesLayoutBy\": \"column\",\n            \"datasetIndex\": 0,\n            \"clip\": true,\n            \"zlevel\": 0,\n            \"z\": 2,\n            \"label\": {\n                \"show\": true,\n                \"position\": \"top\",\n                \"margin\": 8\n            }\n        }\n    ],\n    \"legend\": [\n        {\n            \"data\": [\n                \"\\u52a0\\u8f7d\\u7f51\\u7edc\\u8d44\\u6e90\\u5927\\u5c0f\\uff08KB\\uff09\"\n            ],\n            \"selected\": {\n                \"\\u52a0\\u8f7d\\u7f51\\u7edc\\u8d44\\u6e90\\u5927\\u5c0f\\uff08KB\\uff09\": true\n            },\n            \"show\": true,\n            \"padding\": 5,\n            \"itemGap\": 10,\n            \"itemWidth\": 25,\n            \"itemHeight\": 14\n        }\n    ],\n    \"tooltip\": {\n        \"show\": true,\n        \"trigger\": \"item\",\n        \"triggerOn\": \"mousemove|click\",\n        \"axisPointer\": {\n            \"type\": \"line\"\n        },\n        \"showContent\": true,\n        \"alwaysShowContent\": false,\n        \"showDelay\": 0,\n        \"hideDelay\": 100,\n        \"textStyle\": {\n            \"fontSize\": 14\n        },\n        \"borderWidth\": 0,\n        \"padding\": 5\n    },\n    \"xAxis\": [\n        {\n            \"type\": \"category\",\n            \"show\": true,\n            \"scale\": false,\n            \"nameLocation\": \"end\",\n            \"nameGap\": 15,\n            \"gridIndex\": 0,\n            \"axisPointer\": {\n                \"show\": true,\n                \"type\": \"shadow\"\n            },\n            \"inverse\": false,\n            \"offset\": 0,\n            \"splitNumber\": 5,\n            \"minInterval\": 0,\n            \"splitLine\": {\n                \"show\": false,\n                \"lineStyle\": {\n                    \"show\": true,\n                    \"width\": 1,\n                    \"opacity\": 1,\n                    \"curveness\": 0,\n                    \"type\": \"solid\"\n                }\n            },\n            \"data\": [\n                \"\\u4e91\\u5357\\u5927\\u5b66\",\n                \"\\u6606\\u660e\\u7406\\u5de5\\u5927\\u5b66\",\n                \"\\u4e91\\u5357\\u519c\\u4e1a\\u5927\\u5b66\",\n                \"\\u897f\\u5357\\u6797\\u4e1a\\u5927\\u5b66\",\n                \"\\u6606\\u660e\\u533b\\u79d1\\u5927\\u5b66\",\n                \"\\u5927\\u7406\\u5927\\u5b66\",\n                \"\\u4e91\\u5357\\u4e2d\\u533b\\u836f\\u5927\\u5b66\",\n                \"\\u4e91\\u5357\\u5e08\\u8303\\u5927\\u5b66\",\n                \"\\u662d\\u901a\\u5b66\\u9662\",\n                \"\\u66f2\\u9756\\u5e08\\u8303\\u5b66\\u9662\",\n                \"\\u666e\\u6d31\\u5b66\\u9662\",\n                \"\\u4fdd\\u5c71\\u5b66\\u9662\",\n                \"\\u7ea2\\u6cb3\\u5b66\\u9662\",\n                \"\\u4e91\\u5357\\u8d22\\u7ecf\\u5927\\u5b66\",\n                \"\\u4e91\\u5357\\u827a\\u672f\\u5b66\\u9662\",\n                \"\\u4e91\\u5357\\u6c11\\u65cf\\u5927\\u5b66\",\n                \"\\u7389\\u6eaa\\u5e08\\u8303\\u5b66\\u9662\",\n                \"\\u695a\\u96c4\\u5e08\\u8303\\u5b66\\u9662\",\n                \"\\u4e91\\u5357\\u8b66\\u5b98\\u5b66\\u9662\",\n                \"\\u6606\\u660e\\u5b66\\u9662\",\n                \"\\u6587\\u5c71\\u5b66\\u9662\",\n                \"\\u4e91\\u5357\\u7ecf\\u6d4e\\u7ba1\\u7406\\u5b66\\u9662\",\n                \"\\u4e91\\u5357\\u5927\\u5b66\\u6ec7\\u6c60\\u5b66\\u9662\",\n                \"\\u4e3d\\u6c5f\\u65c5\\u6e38\\u6587\\u5316\\u5b66\\u9662\",\n                \"\\u6606\\u660e\\u7406\\u5de5\\u5927\\u5b66\\u6d25\\u6865\\u5b66\\u9662\",\n                \"\\u4e91\\u5357\\u5e08\\u8303\\u5927\\u5b66\\u5546\\u5b66\\u9662\",\n                \"\\u6606\\u660e\\u6587\\u7406\\u5b66\\u9662\\uff08\\u4e91\\u5357\\u5e08\\u8303\\u5927\\u5b66\\uff09\",\n                \"\\u6606\\u660e\\u533b\\u79d1\\u5927\\u5b66\\u6d77\\u6e90\\u5b66\\u9662\",\n                \"\\u4e91\\u5357\\u827a\\u672f\\u5b66\\u9662\\u6587\\u534e\\u5b66\\u9662\",\n                \"\\u4e91\\u5357\\u5de5\\u5546\\u5b66\\u9662\",\n                \"\\u6ec7\\u897f\\u79d1\\u6280\\u5e08\\u8303\\u5b66\\u9662\",\n                \"\\u6ec7\\u897f\\u5e94\\u7528\\u6280\\u672f\\u5927\\u5b66\"\n            ]\n        }\n    ],\n    \"yAxis\": [\n        {\n            \"show\": true,\n            \"scale\": false,\n            \"nameLocation\": \"end\",\n            \"nameGap\": 15,\n            \"gridIndex\": 0,\n            \"inverse\": false,\n            \"offset\": 0,\n            \"splitNumber\": 5,\n            \"min\": -10,\n            \"minInterval\": 0,\n            \"splitLine\": {\n                \"show\": false,\n                \"lineStyle\": {\n                    \"show\": true,\n                    \"width\": 1,\n                    \"opacity\": 1,\n                    \"curveness\": 0,\n                    \"type\": \"solid\"\n                }\n            }\n        }\n    ],\n    \"title\": [\n        {\n            \"text\": \"\\u52a0\\u8f7d\\u7f51\\u7edc\\u8d44\\u6e90\\u5927\\u5c0f\\u60c5\\u51b5\",\n            \"padding\": 5,\n            \"itemGap\": 10\n        }\n    ],\n    \"dataZoom\": {\n        \"show\": true,\n        \"type\": \"slider\",\n        \"realtime\": true,\n        \"start\": 20,\n        \"end\": 80,\n        \"orient\": \"horizontal\",\n        \"zoomLock\": false,\n        \"filterMode\": \"filter\"\n    }\n};\n                chart_5b87e0a07aaf474ebe73b5d326176d2f.setOption(option_5b87e0a07aaf474ebe73b5d326176d2f);\n        });\n    </script>\n"
     },
     "metadata": {},
     "execution_count": 10
    },
    {
     "output_type": "stream",
     "name": "stdout",
     "text": []
    }
   ],
   "source": [
    "xaxis = list(map(lambda item: item['name'], siteInfo))\n",
    "yaxisTransferSize = list(map(lambda item: \"{:.2f}\".format(float(item['transferSize']) / 1024), siteInfo))\n",
    "\n",
    "bar = (\n",
    "    Bar({\"theme\": ThemeType.SHINE})\n",
    "    .add_xaxis(xaxis)\n",
    "    .add_yaxis(\"加载网络资源大小（KB）\", yaxisTransferSize)\n",
    "    .set_global_opts(\n",
    "        title_opts=opts.TitleOpts(title=\"加载网络资源大小情况\"),\n",
    "        datazoom_opts=opts.DataZoomOpts(),\n",
    "        xaxis_opts=opts.AxisOpts(\n",
    "            type_=\"category\",\n",
    "            axispointer_opts=opts.AxisPointerOpts(is_show=True, type_=\"shadow\"),\n",
    "        ),\n",
    "        yaxis_opts=opts.AxisOpts(\n",
    "            min_=-10,\n",
    "        ),)\n",
    ")\n",
    "bar.render_notebook()"
   ]
  },
  {
   "cell_type": "code",
   "execution_count": 11,
   "metadata": {},
   "outputs": [
    {
     "output_type": "execute_result",
     "data": {
      "text/plain": [
       "<pyecharts.render.display.HTML at 0x293d616eac0>"
      ],
      "text/html": "\n<script>\n    require.config({\n        paths: {\n            'echarts':'https://assets.pyecharts.org/assets/echarts.min', 'shine':'https://assets.pyecharts.org/assets/themes/shine'\n        }\n    });\n</script>\n\n        <div id=\"3f791961abc342dc89078a62c3acdbb1\" style=\"width:900px; height:500px;\"></div>\n\n<script>\n        require(['echarts', 'shine'], function(echarts) {\n                var chart_3f791961abc342dc89078a62c3acdbb1 = echarts.init(\n                    document.getElementById('3f791961abc342dc89078a62c3acdbb1'), 'shine', {renderer: 'canvas'});\n                var option_3f791961abc342dc89078a62c3acdbb1 = {\n    \"animation\": true,\n    \"animationThreshold\": 2000,\n    \"animationDuration\": 1000,\n    \"animationEasing\": \"cubicOut\",\n    \"animationDelay\": 0,\n    \"animationDurationUpdate\": 300,\n    \"animationEasingUpdate\": \"cubicOut\",\n    \"animationDelayUpdate\": 0,\n    \"series\": [\n        {\n            \"type\": \"bar\",\n            \"name\": \"\\u52a0\\u8f7d\\u7f51\\u7edc\\u8d44\\u6e90\\u6570\\u91cf\",\n            \"legendHoverLink\": true,\n            \"data\": [\n                55,\n                60,\n                67,\n                28,\n                68,\n                51,\n                52,\n                39,\n                59,\n                42,\n                55,\n                72,\n                66,\n                41,\n                56,\n                73,\n                64,\n                77,\n                67,\n                49,\n                66,\n                44,\n                26,\n                58,\n                55,\n                51,\n                68,\n                61,\n                60,\n                80,\n                55,\n                72\n            ],\n            \"showBackground\": false,\n            \"barMinHeight\": 0,\n            \"barCategoryGap\": \"20%\",\n            \"barGap\": \"30%\",\n            \"large\": false,\n            \"largeThreshold\": 400,\n            \"seriesLayoutBy\": \"column\",\n            \"datasetIndex\": 0,\n            \"clip\": true,\n            \"zlevel\": 0,\n            \"z\": 2,\n            \"label\": {\n                \"show\": true,\n                \"position\": \"top\",\n                \"margin\": 8\n            }\n        }\n    ],\n    \"legend\": [\n        {\n            \"data\": [\n                \"\\u52a0\\u8f7d\\u7f51\\u7edc\\u8d44\\u6e90\\u6570\\u91cf\"\n            ],\n            \"selected\": {\n                \"\\u52a0\\u8f7d\\u7f51\\u7edc\\u8d44\\u6e90\\u6570\\u91cf\": true\n            },\n            \"show\": true,\n            \"padding\": 5,\n            \"itemGap\": 10,\n            \"itemWidth\": 25,\n            \"itemHeight\": 14\n        }\n    ],\n    \"tooltip\": {\n        \"show\": true,\n        \"trigger\": \"item\",\n        \"triggerOn\": \"mousemove|click\",\n        \"axisPointer\": {\n            \"type\": \"line\"\n        },\n        \"showContent\": true,\n        \"alwaysShowContent\": false,\n        \"showDelay\": 0,\n        \"hideDelay\": 100,\n        \"textStyle\": {\n            \"fontSize\": 14\n        },\n        \"borderWidth\": 0,\n        \"padding\": 5\n    },\n    \"xAxis\": [\n        {\n            \"type\": \"category\",\n            \"show\": true,\n            \"scale\": false,\n            \"nameLocation\": \"end\",\n            \"nameGap\": 15,\n            \"gridIndex\": 0,\n            \"axisPointer\": {\n                \"show\": true,\n                \"type\": \"shadow\"\n            },\n            \"inverse\": false,\n            \"offset\": 0,\n            \"splitNumber\": 5,\n            \"minInterval\": 0,\n            \"splitLine\": {\n                \"show\": false,\n                \"lineStyle\": {\n                    \"show\": true,\n                    \"width\": 1,\n                    \"opacity\": 1,\n                    \"curveness\": 0,\n                    \"type\": \"solid\"\n                }\n            },\n            \"data\": [\n                \"\\u4e91\\u5357\\u5927\\u5b66\",\n                \"\\u6606\\u660e\\u7406\\u5de5\\u5927\\u5b66\",\n                \"\\u4e91\\u5357\\u519c\\u4e1a\\u5927\\u5b66\",\n                \"\\u897f\\u5357\\u6797\\u4e1a\\u5927\\u5b66\",\n                \"\\u6606\\u660e\\u533b\\u79d1\\u5927\\u5b66\",\n                \"\\u5927\\u7406\\u5927\\u5b66\",\n                \"\\u4e91\\u5357\\u4e2d\\u533b\\u836f\\u5927\\u5b66\",\n                \"\\u4e91\\u5357\\u5e08\\u8303\\u5927\\u5b66\",\n                \"\\u662d\\u901a\\u5b66\\u9662\",\n                \"\\u66f2\\u9756\\u5e08\\u8303\\u5b66\\u9662\",\n                \"\\u666e\\u6d31\\u5b66\\u9662\",\n                \"\\u4fdd\\u5c71\\u5b66\\u9662\",\n                \"\\u7ea2\\u6cb3\\u5b66\\u9662\",\n                \"\\u4e91\\u5357\\u8d22\\u7ecf\\u5927\\u5b66\",\n                \"\\u4e91\\u5357\\u827a\\u672f\\u5b66\\u9662\",\n                \"\\u4e91\\u5357\\u6c11\\u65cf\\u5927\\u5b66\",\n                \"\\u7389\\u6eaa\\u5e08\\u8303\\u5b66\\u9662\",\n                \"\\u695a\\u96c4\\u5e08\\u8303\\u5b66\\u9662\",\n                \"\\u4e91\\u5357\\u8b66\\u5b98\\u5b66\\u9662\",\n                \"\\u6606\\u660e\\u5b66\\u9662\",\n                \"\\u6587\\u5c71\\u5b66\\u9662\",\n                \"\\u4e91\\u5357\\u7ecf\\u6d4e\\u7ba1\\u7406\\u5b66\\u9662\",\n                \"\\u4e91\\u5357\\u5927\\u5b66\\u6ec7\\u6c60\\u5b66\\u9662\",\n                \"\\u4e3d\\u6c5f\\u65c5\\u6e38\\u6587\\u5316\\u5b66\\u9662\",\n                \"\\u6606\\u660e\\u7406\\u5de5\\u5927\\u5b66\\u6d25\\u6865\\u5b66\\u9662\",\n                \"\\u4e91\\u5357\\u5e08\\u8303\\u5927\\u5b66\\u5546\\u5b66\\u9662\",\n                \"\\u6606\\u660e\\u6587\\u7406\\u5b66\\u9662\\uff08\\u4e91\\u5357\\u5e08\\u8303\\u5927\\u5b66\\uff09\",\n                \"\\u6606\\u660e\\u533b\\u79d1\\u5927\\u5b66\\u6d77\\u6e90\\u5b66\\u9662\",\n                \"\\u4e91\\u5357\\u827a\\u672f\\u5b66\\u9662\\u6587\\u534e\\u5b66\\u9662\",\n                \"\\u4e91\\u5357\\u5de5\\u5546\\u5b66\\u9662\",\n                \"\\u6ec7\\u897f\\u79d1\\u6280\\u5e08\\u8303\\u5b66\\u9662\",\n                \"\\u6ec7\\u897f\\u5e94\\u7528\\u6280\\u672f\\u5927\\u5b66\"\n            ]\n        }\n    ],\n    \"yAxis\": [\n        {\n            \"show\": true,\n            \"scale\": false,\n            \"nameLocation\": \"end\",\n            \"nameGap\": 15,\n            \"gridIndex\": 0,\n            \"inverse\": false,\n            \"offset\": 0,\n            \"splitNumber\": 5,\n            \"min\": -10,\n            \"minInterval\": 0,\n            \"splitLine\": {\n                \"show\": false,\n                \"lineStyle\": {\n                    \"show\": true,\n                    \"width\": 1,\n                    \"opacity\": 1,\n                    \"curveness\": 0,\n                    \"type\": \"solid\"\n                }\n            }\n        }\n    ],\n    \"title\": [\n        {\n            \"text\": \"\\u52a0\\u8f7d\\u7f51\\u7edc\\u8d44\\u6e90\\u6570\\u91cf\\u60c5\\u51b5\",\n            \"padding\": 5,\n            \"itemGap\": 10\n        }\n    ],\n    \"dataZoom\": {\n        \"show\": true,\n        \"type\": \"slider\",\n        \"realtime\": true,\n        \"start\": 20,\n        \"end\": 80,\n        \"orient\": \"horizontal\",\n        \"zoomLock\": false,\n        \"filterMode\": \"filter\"\n    }\n};\n                chart_3f791961abc342dc89078a62c3acdbb1.setOption(option_3f791961abc342dc89078a62c3acdbb1);\n        });\n    </script>\n"
     },
     "metadata": {},
     "execution_count": 11
    },
    {
     "output_type": "stream",
     "name": "stdout",
     "text": []
    }
   ],
   "source": [
    "xaxis = list(map(lambda item: item['name'], siteInfo))\n",
    "yaxisTransferCount = list(map(lambda item: int(item['transferCount']), siteInfo))\n",
    "\n",
    "bar = (\n",
    "    Bar({\"theme\": ThemeType.SHINE})\n",
    "    .add_xaxis(xaxis)\n",
    "    .add_yaxis(\"加载网络资源数量\", yaxisTransferCount)\n",
    "    .set_global_opts(\n",
    "        title_opts=opts.TitleOpts(title=\"加载网络资源数量情况\"),\n",
    "        datazoom_opts=opts.DataZoomOpts(),\n",
    "        xaxis_opts=opts.AxisOpts(\n",
    "            type_=\"category\",\n",
    "            axispointer_opts=opts.AxisPointerOpts(is_show=True, type_=\"shadow\"),\n",
    "        ),\n",
    "        yaxis_opts=opts.AxisOpts(\n",
    "            min_=-10,\n",
    "        ),)\n",
    ")\n",
    "bar.render_notebook()"
   ]
  },
  {
   "cell_type": "code",
   "execution_count": 12,
   "metadata": {},
   "outputs": [
    {
     "output_type": "stream",
     "name": "stdout",
     "text": []
    }
   ],
   "source": [
    "df['pingAverage(ms)'] = list(map(lambda item: item['pingAverage'] if item['pingAverage'] != '0ms' else '-', siteInfo))\n",
    "df['loadTime(ms)'] = list(map(lambda item: \"{:.2f}\".format(float(item['loadTime']) * 1000), siteInfo))\n",
    "df['transferSize(KB)'] = list(map(lambda item: \"{:.2f}\".format(float(item['transferSize']) / 1024), siteInfo))\n",
    "df['transferCount'] = list(map(lambda item: int(item['transferCount']), siteInfo))\n",
    "\n",
    "df.to_excel('resources/network_metric.xlsx',index=False)"
   ]
  }
 ]
}